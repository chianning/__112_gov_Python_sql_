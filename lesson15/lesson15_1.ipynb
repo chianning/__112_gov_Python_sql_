{
 "cells": [
  {
   "cell_type": "code",
   "execution_count": 2,
   "metadata": {},
   "outputs": [
    {
     "data": {
      "text/plain": [
       "[1, 2, 3, 4, 5]"
      ]
     },
     "execution_count": 2,
     "metadata": {},
     "output_type": "execute_result"
    },
    {
     "name": "stderr",
     "output_type": "stream",
     "text": [
      "Bad pipe message: %s [b'0.9,image/avif,image/webp,image/apng,*/*;q=0.8,application/signed-exchange;v=b3;q=0.7\\r\\nHost: localhost:37067\\r\\nUs', b'-Agent: Mozilla/5.0 (Windows NT 10.0; Win64; x64) AppleWebKit/537.36 (KHTML, like Gecko) Chrome/124.']\n",
      "Bad pipe message: %s [b'0.0 Safari/537.36\\r\\nAccept-Encoding: gzip, defla']\n",
      "Bad pipe message: %s [b', br, zstd\\r\\nAccept-Language: zh-TW,zh;q=0.9,en-US;q=0.8,en;q=0.7\\r\\nCache-Control: max-age=0\\r\\nReferer: https://github', b'om/\\r\\nX-Request-ID: 7c7c4424f9a7652ea63f9c9dd6', b'58b3\\r\\nX-Real-IP: 10.240.0.69\\r\\nX-Forwarded-Port: 443\\r']\n",
      "Bad pipe message: %s [b'-Forwarde']\n",
      "Bad pipe message: %s [b'0.9,image/avif,image/webp,image/apng,*/*;q=0.8,application/signed-exchange;v=b3;q=0.7\\r\\nHost: localhost:37067\\r\\nUs', b'-Agent: Mozilla/5.0 (Windows NT 10.0; Win64; x64) AppleWebKit/537.36 (KHTML, like Gecko) Chrome/124.']\n",
      "Bad pipe message: %s [b'0.0 Safari/537.36\\r\\nAccept-Encoding: gzip, defla']\n",
      "Bad pipe message: %s [b', br, zstd\\r\\nAccept-Language: zh-TW,zh;q=0.9,en-US;q=0.8,en;q=0.7\\r\\nReferer: https://fictional-fortnight-v6ppwqg9q95r', b'9rv.github.dev/\\r\\nX-Request-ID: ad59a48bf912f0f026']\n",
      "Bad pipe message: %s [b'4c4410f6df1c\\r\\nX-Real-IP: 10.240.0.69\\r\\nX-Forwarded-Port: 443\\r\\nX-Forwarded-Scheme: https\\r\\nX-Original-', b'I: /\\r\\nX-Scheme: https\\r\\nsec-ch-ua: \"Chromium\";v=\"124\", \"Google Chrome\";v=\"124\", \"Not-']\n",
      "Bad pipe message: %s [b'Brand\";v=\"99\"\\r\\nsec-ch-ua-mobile: ?0\\r\\nsec-ch-ua-platform: \"Window']\n",
      "Bad pipe message: %s [b'\\r\\nsec-fetch-site: same-site\\r\\nsec-fetch-mode: navigate\\r\\nsec-fetch-user: ?1\\r\\nsec-fetch-dest: document\\r\\npriority: u=0']\n",
      "Bad pipe message: %s [b'i\\r\\nX-Original-Proto: https\\r\\nCookie: ajs_ano']\n",
      "Bad pipe message: %s [b'mous_id=bb09425d-8208-48fb-a24b-fe734c732639\\r\\nX-Forwarded-Proto: https\\r\\nX-Forwarded-Host: fictional-fortnight', b'6ppwqg9q95r269rv-37067.app.github.dev\\r\\nX-For']\n"
     ]
    }
   ],
   "source": [
    "number_list = [number for number in range(1,6)]\n",
    "number_list"
   ]
  }
 ],
 "metadata": {
  "kernelspec": {
   "display_name": "Python 3",
   "language": "python",
   "name": "python3"
  },
  "language_info": {
   "codemirror_mode": {
    "name": "ipython",
    "version": 3
   },
   "file_extension": ".py",
   "mimetype": "text/x-python",
   "name": "python",
   "nbconvert_exporter": "python",
   "pygments_lexer": "ipython3",
   "version": "3.10.13"
  }
 },
 "nbformat": 4,
 "nbformat_minor": 2
}
