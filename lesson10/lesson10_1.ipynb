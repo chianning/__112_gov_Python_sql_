{
 "cells": [
  {
   "cell_type": "code",
   "execution_count": 4,
   "metadata": {},
   "outputs": [
    {
     "name": "stdout",
     "output_type": "stream",
     "text": [
      "False\n",
      "True\n"
     ]
    }
   ],
   "source": [
    "#讀取names.txt\n",
    "file = open('names.txt',encoding='utf-8')\n",
    "type(file)\n",
    "print(file.closed)\n",
    "file.close()\n",
    "print(file.closed)"
   ]
  },
  {
   "cell_type": "code",
   "execution_count": null,
   "metadata": {},
   "outputs": [],
   "source": [
    "#讀取names.txt\n",
    "#建立file物件\n",
    "file = open('names.txt',encoding='utf-8')\n",
    "#讀取檔案文字\n",
    "content:str = file.read()\n",
    "print(content)\n",
    "#關閉stream\n",
    "file.close()\n",
    "print(file.closed)"
   ]
  },
  {
   "cell_type": "code",
   "execution_count": null,
   "metadata": {},
   "outputs": [],
   "source": [
    "#with as 自動close()\n",
    "with open('names.txt',encoding='utf-8') as file:\n",
    "    content:str = file.read()\n",
    "\n",
    "names:list[str] = content.split(sep='\\n')\n",
    "for name in names:\n",
    "    print(name)\n"
   ]
  },
  {
   "cell_type": "code",
   "execution_count": 9,
   "metadata": {},
   "outputs": [
    {
     "data": {
      "text/plain": [
       "101"
      ]
     },
     "execution_count": 9,
     "metadata": {},
     "output_type": "execute_result"
    }
   ],
   "source": [
    "import random\n",
    "random.randint(100,105)"
   ]
  },
  {
   "cell_type": "code",
   "execution_count": 10,
   "metadata": {},
   "outputs": [
    {
     "data": {
      "text/plain": [
       "'吳柏誠'"
      ]
     },
     "execution_count": 10,
     "metadata": {},
     "output_type": "execute_result"
    }
   ],
   "source": [
    "random.choice(names)"
   ]
  },
  {
   "cell_type": "code",
   "execution_count": 13,
   "metadata": {},
   "outputs": [
    {
     "data": {
      "text/plain": [
       "['李蓉瑞', '王坤安', '黃善迪', '鄧淑娟', '潘俊賢', '翁鈺婷']"
      ]
     },
     "execution_count": 13,
     "metadata": {},
     "output_type": "execute_result"
    }
   ],
   "source": [
    "random.choices(names,k=6)"
   ]
  },
  {
   "cell_type": "code",
   "execution_count": 14,
   "metadata": {},
   "outputs": [
    {
     "data": {
      "text/plain": [
       "['陳怡珊', '林義皓', '楊易政']"
      ]
     },
     "execution_count": 14,
     "metadata": {},
     "output_type": "execute_result"
    }
   ],
   "source": [
    "student_names:list[str] = random.choices(names,k=3)\n",
    "student_names"
   ]
  },
  {
   "cell_type": "code",
   "execution_count": 16,
   "metadata": {},
   "outputs": [
    {
     "name": "stdout",
     "output_type": "stream",
     "text": [
      "陳怡珊\n",
      "林義皓\n",
      "楊易政\n"
     ]
    }
   ],
   "source": [
    "for name in student_names:\n",
    "    print(name)"
   ]
  },
  {
   "cell_type": "code",
   "execution_count": 22,
   "metadata": {},
   "outputs": [
    {
     "name": "stdout",
     "output_type": "stream",
     "text": [
      "{'name': '陳怡珊', '國文': 84, '英文': 100, '數學': 76}\n",
      "{'name': '林義皓', '國文': 83, '英文': 51, '數學': 78}\n",
      "{'name': '楊易政', '國文': 92, '英文': 59, '數學': 97}\n"
     ]
    }
   ],
   "source": [
    "for student_name in student_names:\n",
    "    student:dict = dict()\n",
    "    student['name'] = student_name\n",
    "    student['國文'] = random.randint(50,100)\n",
    "    student['英文'] = random.randint(50,100)      \n",
    "    student['數學'] = random.randint(50,100)      \n",
    "    print(student)                                 "
   ]
  },
  {
   "cell_type": "code",
   "execution_count": 25,
   "metadata": {},
   "outputs": [
    {
     "data": {
      "text/plain": [
       "[{'name': '陳怡珊', '國文': 80, '英文': 78, '數學': 57},\n",
       " {'name': '林義皓', '國文': 58, '英文': 81, '數學': 57},\n",
       " {'name': '楊易政', '國文': 54, '英文': 80, '數學': 83}]"
      ]
     },
     "execution_count": 25,
     "metadata": {},
     "output_type": "execute_result"
    }
   ],
   "source": [
    "students:list[dict] = []\n",
    "for student_name in student_names:\n",
    "    student:dict = dict()\n",
    "    student['name'] = student_name\n",
    "    student['國文'] = random.randint(50,100)\n",
    "    student['英文'] = random.randint(50,100)      \n",
    "    student['數學'] = random.randint(50,100)      \n",
    "    students.append(student)\n",
    "students            "
   ]
  }
 ],
 "metadata": {
  "kernelspec": {
   "display_name": "Python 3",
   "language": "python",
   "name": "python3"
  },
  "language_info": {
   "codemirror_mode": {
    "name": "ipython",
    "version": 3
   },
   "file_extension": ".py",
   "mimetype": "text/x-python",
   "name": "python",
   "nbconvert_exporter": "python",
   "pygments_lexer": "ipython3",
   "version": "3.10.13"
  }
 },
 "nbformat": 4,
 "nbformat_minor": 2
}
