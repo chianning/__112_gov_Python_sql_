{
 "cells": [
  {
   "cell_type": "code",
   "execution_count": 2,
   "metadata": {},
   "outputs": [
    {
     "data": {
      "text/plain": [
       "True"
      ]
     },
     "execution_count": 2,
     "metadata": {},
     "output_type": "execute_result"
    }
   ],
   "source": [
    "#建立電腦的環境變數(不是真實的,是模擬的),並且載入\n",
    "from dotenv import load_dotenv\n",
    "load_dotenv()"
   ]
  },
  {
   "cell_type": "code",
   "execution_count": 8,
   "metadata": {},
   "outputs": [],
   "source": [
    "#連線資料庫\n",
    "#使用電腦的環境變數\n",
    "import psycopg2\n",
    "import os\n",
    "conn = psycopg2.connect(os.environ['POSTGRE_PASSWORD'])\n",
    "conn.commit()\n",
    "conn.close()"
   ]
  },
  {
   "cell_type": "code",
   "execution_count": 9,
   "metadata": {},
   "outputs": [],
   "source": [
    "#使用with as的語法,可以自動commit(),自動close()\n",
    "with psycopg2.connect(os.environ['POSTGRE_PASSWORD']) as conn:\n",
    "     cursor = conn.cursor()\n",
    "     sql = '''\n",
    "       CREATE TABLE IF NOT EXISTS 客戶(\n",
    "       客戶_id SERIAL,\n",
    "\t   客戶名稱 VARCHAR(255) NOT NULL,\n",
    "\t   PRIMARY KEY(客戶_id)\n",
    "       );\n",
    "'''\n",
    "cursor.execute(sql)\n",
    "\n",
    "sql = '''\n",
    "    CREATE TABLE IF NOT EXISTS 聯絡人(\n",
    "\t聯絡人id SERIAL,\n",
    "\t客戶id INT,\n",
    "\t聯絡人姓名 VARCHAR(255) NOT NULL,\n",
    "\t電話 VARCHAR(15),\n",
    "\t郵件 VARCHAR(100),\n",
    "\tPRIMARY KEY (聯絡人id),\n",
    "\tFOREIGN KEY (客戶id) REFERENCES 客戶(客戶_id)\n",
    "    );\n",
    "'''\n",
    "cursor.execute(sql)\n",
    "cursor.close()\n"
   ]
  }
 ],
 "metadata": {
  "kernelspec": {
   "display_name": "Python 3",
   "language": "python",
   "name": "python3"
  },
  "language_info": {
   "codemirror_mode": {
    "name": "ipython",
    "version": 3
   },
   "file_extension": ".py",
   "mimetype": "text/x-python",
   "name": "python",
   "nbconvert_exporter": "python",
   "pygments_lexer": "ipython3",
   "version": "3.10.13"
  }
 },
 "nbformat": 4,
 "nbformat_minor": 2
}
